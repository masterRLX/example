{
 "cells": [
  {
   "cell_type": "markdown",
   "id": "43450563",
   "metadata": {},
   "source": [
    "# [문제]\n",
    "- ChatPromptTemplate() : 역할 부여\n",
    "- InMemoryChatMessageHistory()\n",
    "- RunnableWithMessageHistory()\n",
    "- chain 구성"
   ]
  },
  {
   "cell_type": "markdown",
   "id": "e0dbca48",
   "metadata": {},
   "source": [
    "## [문제] 기존 String PromptTemplate을 ChatPromptTemplate으로 변경\n",
    "- Chain\n",
    "- prompt template: 직접 작성\n",
    "                   문서를 참고해서, 사용자 질문에 답변"
   ]
  },
  {
   "cell_type": "code",
   "execution_count": null,
   "id": "449a8ec4",
   "metadata": {},
   "outputs": [
    {
     "name": "stdout",
     "output_type": "stream",
     "text": [
      "\n",
      "남녀고용평등과 일ㆍ가정 양립 지원에 관한 법률 ( 약칭: 남녀고용평등법 )\n",
      "[시행 20\n"
     ]
    }
   ],
   "source": [
    "## 1. 모듈(파일, 라이브러리) 읽어오기\n",
    "from langchain_openai import ChatOpenAI\n",
    "from langchain_core.runnables.history import RunnableWithMessageHistory\n",
    "from langchain_core.chat_history import InMemoryChatMessageHistory\n",
    "from langchain_core.prompts import ChatPromptTemplate\n",
    "from langchain.callbacks.streaming_stdout import StreamingStdOutCallbackHandler\n",
    "\n",
    "from dotenv import load_dotenv\n",
    "\n",
    "\n",
    "## 2. 환경변수에 설정된 값 읽어오기\n",
    "load_dotenv()\n",
    "\n",
    "## 3. 파일 읽기\n",
    "file_name = '남녀고용평등과 일ㆍ가정 양립 지원에 관한 법률(법률)(제20521호)(20250223).txt'\n",
    "\n",
    "with open(file_name, 'r', encoding='utf-8') as file:\n",
    "    law = file.read()\n",
    "    print(law[:50])\n",
    "\n",
    "## 4. prompt 생성\n",
    "template = [\n",
    "    ('system', '''당신은 육아휴직 법률 전문가입니다.\n",
    "     아래 문서를 참고하여, 사용자 질문에 성실하게 답변합니다.\n",
    "     답변은 문서 내용을 기반으로 하되, 해당 조항도 표시합니다.\n",
    "     - 문서: {law}'''),\n",
    "     ('placeholder', '{chat_history}'),\n",
    "    ('user', '{query}')\n",
    "]\n",
    "\n",
    "prompt = ChatPromptTemplate.from_messages(template)\n",
    "\n",
    "## 5. ChatOpenAI 인스턴스 생성\n",
    "llm = ChatOpenAI(\n",
    "    model='gpt-4.1-nano',\n",
    "    streaming=True,\n",
    "    callbacks=[StreamingStdOutCallbackHandler()],\n",
    ")\n",
    "\n",
    "## 6. chain 구성\n",
    "chain = prompt | llm\n",
    "\n",
    "## 7. 대화 이력(히스토리) 관리 인스턴스 생성\n",
    "history = InMemoryChatMessageHistory()\n"
   ]
  },
  {
   "cell_type": "code",
   "execution_count": 6,
   "id": "ad3c57bf",
   "metadata": {},
   "outputs": [
    {
     "name": "stdout",
     "output_type": "stream",
     "text": [
      "남녀고용평등법 제19조(육아휴직)에 따라, 근로자가 임신 중이거나 만 8세 이하 또는 초등학교 2학년 이하 자녀를 양육하기 위해 휴직(육아휴직)을 신청하는 경우, 사업주는 이를 허용하여야 합니다. (제19조 1항)  \n",
      "또한, 육아휴직의 기간은 1년 이내로 하되, 특정 조건을 만족하는 경우 최대 2년까지 가능하다고 명시되어 있습니다. (제19조 2항)  \n",
      "육아휴직 기간 동안에는 근로자를 해고하거나 불리한 처우를 해서는 아니 되며, 복귀 시에는 휴직 전과 같은 직무 또는 수준의 임금을 지급하는 직무에 복귀시켜야 합니다. (제19조 3항, 4항)  \n",
      "즉, 더 오래 휴식을 원하시면, 조건에 따라 최대 2년까지 육아휴직 연장이 가능하며, 이 기간 동안 해고 등 불이익 조치를 받지 않게 보호됩니다.  \n",
      "추가로, 육아휴직 후 복귀 지원, 알선, 상담 등도 법적 의무 사항이니 참고하시기 바랍니다."
     ]
    },
    {
     "data": {
      "text/plain": [
       "AIMessage(content='남녀고용평등법 제19조(육아휴직)에 따라, 근로자가 임신 중이거나 만 8세 이하 또는 초등학교 2학년 이하 자녀를 양육하기 위해 휴직(육아휴직)을 신청하는 경우, 사업주는 이를 허용하여야 합니다. (제19조 1항)  \\n또한, 육아휴직의 기간은 1년 이내로 하되, 특정 조건을 만족하는 경우 최대 2년까지 가능하다고 명시되어 있습니다. (제19조 2항)  \\n육아휴직 기간 동안에는 근로자를 해고하거나 불리한 처우를 해서는 아니 되며, 복귀 시에는 휴직 전과 같은 직무 또는 수준의 임금을 지급하는 직무에 복귀시켜야 합니다. (제19조 3항, 4항)  \\n즉, 더 오래 휴식을 원하시면, 조건에 따라 최대 2년까지 육아휴직 연장이 가능하며, 이 기간 동안 해고 등 불이익 조치를 받지 않게 보호됩니다.  \\n추가로, 육아휴직 후 복귀 지원, 알선, 상담 등도 법적 의무 사항이니 참고하시기 바랍니다.', additional_kwargs={}, response_metadata={'finish_reason': 'stop', 'model_name': 'gpt-4.1-nano-2025-04-14', 'system_fingerprint': 'fp_eede8f0d45'}, id='run-84084295-e405-4fea-92fd-cccec06dc49b-0')"
      ]
     },
     "execution_count": 6,
     "metadata": {},
     "output_type": "execute_result"
    }
   ],
   "source": [
    "store ={}\n",
    "\n",
    "## 8. 함수 정의: 대화 이력(히스토리) 인스턴스 리턴\n",
    "def get_history(session_id: str):\n",
    "    if session_id not in store:\n",
    "        store[session_id] = InMemoryChatMessageHistory()\n",
    "    return store[session_id]\n",
    "\n",
    "## 9. 사용자 질문 받기\n",
    "query = input('육아휴직과 관련된 질문하세요 >> ')\n",
    "\n",
    "## 10. chain에 대화 이력(히스토리) 기능을 래핑해서 추가\n",
    "with_message_history = RunnableWithMessageHistory(\n",
    "    chain,\n",
    "    get_history,\n",
    "    history_messages_key='chat_history',\n",
    "    input_messages_key='query',\n",
    ")\n",
    "\n",
    "## 11. 실행\n",
    "with_message_history.invoke(\n",
    "    {'law': law, 'query': query},\n",
    "    config={'configurable': {'session_id': 'abc'}}\n",
    ")"
   ]
  },
  {
   "cell_type": "code",
   "execution_count": 8,
   "id": "4ed79431",
   "metadata": {},
   "outputs": [
    {
     "data": {
      "text/plain": [
       "InMemoryChatMessageHistory(messages=[HumanMessage(content='더쉬고 싶어 계속', additional_kwargs={}, response_metadata={}), AIMessage(content='남녀고용평등법 제19조(육아휴직)에 따라, 근로자가 임신 중이거나 만 8세 이하 또는 초등학교 2학년 이하 자녀를 양육하기 위해 휴직(육아휴직)을 신청하는 경우, 사업주는 이를 허용하여야 합니다. (제19조 1항)  \\n또한, 육아휴직의 기간은 1년 이내로 하되, 특정 조건을 만족하는 경우 최대 2년까지 가능하다고 명시되어 있습니다. (제19조 2항)  \\n육아휴직 기간 동안에는 근로자를 해고하거나 불리한 처우를 해서는 아니 되며, 복귀 시에는 휴직 전과 같은 직무 또는 수준의 임금을 지급하는 직무에 복귀시켜야 합니다. (제19조 3항, 4항)  \\n즉, 더 오래 휴식을 원하시면, 조건에 따라 최대 2년까지 육아휴직 연장이 가능하며, 이 기간 동안 해고 등 불이익 조치를 받지 않게 보호됩니다.  \\n추가로, 육아휴직 후 복귀 지원, 알선, 상담 등도 법적 의무 사항이니 참고하시기 바랍니다.', additional_kwargs={}, response_metadata={'finish_reason': 'stop', 'model_name': 'gpt-4.1-nano-2025-04-14', 'system_fingerprint': 'fp_eede8f0d45'}, id='run-84084295-e405-4fea-92fd-cccec06dc49b-0')])"
      ]
     },
     "execution_count": 8,
     "metadata": {},
     "output_type": "execute_result"
    }
   ],
   "source": [
    "get_history('abc')\n"
   ]
  }
 ],
 "metadata": {
  "kernelspec": {
   "display_name": "project",
   "language": "python",
   "name": "python3"
  },
  "language_info": {
   "codemirror_mode": {
    "name": "ipython",
    "version": 3
   },
   "file_extension": ".py",
   "mimetype": "text/x-python",
   "name": "python",
   "nbconvert_exporter": "python",
   "pygments_lexer": "ipython3",
   "version": "3.10.12"
  }
 },
 "nbformat": 4,
 "nbformat_minor": 5
}
