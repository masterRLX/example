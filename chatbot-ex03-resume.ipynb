{
 "cells": [
  {
   "cell_type": "markdown",
   "id": "6c02435e",
   "metadata": {},
   "source": [
    "[문제] Managing Conversation History  \n",
    "- trim_messages()  \n",
    "- RunnablePassthrough  \n",
    "- itemgetter()  \n",
    "\n",
    "세션ID 설정하여, 대화 진행합니다.(multi-turn conversation)  \n",
    "LLM 모델이 과거대화를 알지(기억) 못하는 상황을 만드세요.  \n"
   ]
  },
  {
   "cell_type": "code",
   "execution_count": null,
   "id": "e002d1c7",
   "metadata": {},
   "outputs": [
    {
     "name": "stdout",
     "output_type": "stream",
     "text": [
      "죄송하지만 그 질문에 대한 답변은 제공할 수 없습니다. 이력서를 작성을 위해 다른 정보를 제공해 주시면 감사하겠습니다.\n",
      "****************************************************************************************************\n",
      "\n"
     ]
    }
   ],
   "source": [
    "## 1. 모듈 import\n",
    "from operator import itemgetter\n",
    "from dotenv import load_dotenv\n",
    "from langchain_openai import ChatOpenAI\n",
    "from langchain.callbacks.streaming_stdout import StreamingStdOutCallbackHandler\n",
    "from langchain_core.messages import trim_messages\n",
    "from langchain_core.runnables.history import RunnableWithMessageHistory\n",
    "from langchain_core.runnables import RunnablePassthrough\n",
    "from langchain_core.prompts import ChatPromptTemplate\n",
    "from langchain_core.chat_history import (\n",
    "    BaseChatMessageHistory, \n",
    "    InMemoryChatMessageHistory\n",
    ")\n",
    "\n",
    "\n",
    "## 2. .env 파일에서 환경변수 읽어오기\n",
    "load_dotenv()\n",
    "\n",
    "## 3. 세션별 대화 히스토리를 저장할 임시 메모리 저장소\n",
    "## type: dict \n",
    "store = {}\n",
    "\n",
    "## 4. 함수 정의: 세션 ID에 따라 대화 히스토리 반환\n",
    "def get_history(session_id: str) -> BaseChatMessageHistory:\n",
    "    if session_id not in store:\n",
    "        store[session_id] = InMemoryChatMessageHistory()\n",
    "    return store[session_id]\n",
    "\n",
    "## 5. prompt template 정의\n",
    "messages = [\n",
    "    ('system', '''당신은 이력서 작성 컨설턴트입니다.\n",
    "아래 정보를 바탕으로 지원자 입장에서 2000자 이내로 이력서를 작성합니다.\n",
    "문장은 자연스럽고 매끄럽게 작성합니다.'''),\n",
    "\t('placeholder', '{chat_history}'),\n",
    "\t('user', '{query}')\n",
    "]\n",
    "\n",
    "prompt = ChatPromptTemplate.from_messages(messages=messages)\n",
    "\n",
    "## 6. ChatOpenAI 인스턴스 생성: 모델 생성\n",
    "llm = ChatOpenAI(\n",
    "    model='gpt-4o',\n",
    "    streaming=True,\n",
    "    callbacks=[StreamingStdOutCallbackHandler()],\n",
    ")\n",
    "\n",
    "## 7. trim 설정\n",
    "trimmer = trim_messages(\n",
    "    max_tokens=65,\n",
    "    strategy='last',\n",
    "    token_counter=llm,\n",
    "    include_system=True,\n",
    "    allow_partial=False,\n",
    "    start_on='human',\n",
    ")\n",
    "\n",
    "## 8. chain 구성\n",
    "chain = (\n",
    "    RunnablePassthrough.assign(chat_history=itemgetter('chat_history') | trimmer)\n",
    "    | prompt \n",
    "    | llm \n",
    ")\n",
    "\n",
    "## 9. chain에 대화 히스토리 기능을 래핑해서 추가\n",
    "with_message_history = RunnableWithMessageHistory(\n",
    "    chain,\n",
    "    get_history,\n",
    "    input_messages_key='query',\n",
    "    history_messages_key='chat_history'\n",
    ")\n",
    "\n",
    "## 10. chain 실행\n",
    "while True:\n",
    "    query = input('이력서 작성 컨설턴트입니다. 질문하세요. [종료: S] >>> ')\n",
    "\n",
    "    if query.upper() == 'S':\n",
    "        break\n",
    "\n",
    "    with_message_history.invoke(\n",
    "        {'query': query},\n",
    "        config={'configurable': {'session_id': '1234'}},     \n",
    "    )\n",
    "    print('\\n'+'*' * 100 +'\\n')"
   ]
  },
  {
   "cell_type": "code",
   "execution_count": 18,
   "id": "6f7a7ec2",
   "metadata": {},
   "outputs": [
    {
     "data": {
      "text/plain": [
       "InMemoryChatMessageHistory(messages=[HumanMessage(content='이병헌 파이썬 경력없음', additional_kwargs={}, response_metadata={}), AIMessage(content='**이병헌**\\n\\n---\\n\\n**연락처**  \\n이메일: leebyunghun@example.com  \\n전화번호: 010-1234-5678  \\n주소: 서울특별시\\n\\n---\\n\\n**목표**  \\n파이썬을 통해 새로운 기술을 배우고 프로그래밍 분야에서 경력을 쌓아나가는 것을 목표로 하는 열정적인 신입 개발자입니다. 정확성과 창의성을 바탕으로 문제를 해결하고, 팀과의 원활한 협업을 통해 프로젝트의 성공에 기여하고자 합니다.\\n\\n---\\n\\n**교육**  \\n- **서울대학교**  \\n  컴퓨터공학과 미졸업\\n\\n---\\n\\n**기술 역량**  \\n- **프', additional_kwargs={}, response_metadata={'finish_reason': 'length', 'model_name': 'gpt-4o-2024-08-06', 'system_fingerprint': 'fp_07871e2ad8'}, id='run-253e00bc-3a5f-4203-9c43-bc5b5d95f8ad-0'), HumanMessage(content='귀사의 꽃이 되고싶습니다.', additional_kwargs={}, response_metadata={}), AIMessage(content=\"[이력서]\\n\\n**개인 정보**\\n- 이름: 김지원\\n- 이메일: jiwan.kim@email.com\\n- 전화번호: 010-1234-5678\\n- 주소: 서울특별시 강남구 테헤란로\\n\\n**목표**\\n귀사의 발전과 함께 성장하며, 제 역량을 최대한 발휘하여 귀사의 주요 구성원, 즉 '꽃'이 되고자 합니다. \\n\\n**학력**\\n- **서울대학교**  \\n  경영학 학사  \\n  2018년 3월 - 2022년 2월\\n\\n**경력**\\n- **ABC 마케팅 회사**  \\n  마케팅 인턴  \\n  2021년 6\", additional_kwargs={}, response_metadata={'finish_reason': 'length', 'model_name': 'gpt-4o-2024-08-06', 'system_fingerprint': 'fp_07871e2ad8'}, id='run-9a9ad7e5-6d61-492b-a0a8-07e313ddcdf0-0')])"
      ]
     },
     "execution_count": 18,
     "metadata": {},
     "output_type": "execute_result"
    }
   ],
   "source": [
    "get_history('1234')"
   ]
  },
  {
   "cell_type": "code",
   "execution_count": 19,
   "id": "6a40bb5c",
   "metadata": {},
   "outputs": [
    {
     "name": "stdout",
     "output_type": "stream",
     "text": [
      "이병헌 파이썬 경력없음\n",
      "**************************************************\n",
      "**이병헌**\n",
      "\n",
      "---\n",
      "\n",
      "**연락처**  \n",
      "이메일: leebyunghun@example.com  \n",
      "전화번호: 010-1234-5678  \n",
      "주소: 서울특별시\n",
      "\n",
      "---\n",
      "\n",
      "**목표**  \n",
      "파이썬을 통해 새로운 기술을 배우고 프로그래밍 분야에서 경력을 쌓아나가는 것을 목표로 하는 열정적인 신입 개발자입니다. 정확성과 창의성을 바탕으로 문제를 해결하고, 팀과의 원활한 협업을 통해 프로젝트의 성공에 기여하고자 합니다.\n",
      "\n",
      "---\n",
      "\n",
      "**교육**  \n",
      "- **서울대학교**  \n",
      "  컴퓨터공학과 미졸업\n",
      "\n",
      "---\n",
      "\n",
      "**기술 역량**  \n",
      "- **프\n",
      "**************************************************\n",
      "귀사의 꽃이 되고싶습니다.\n",
      "**************************************************\n",
      "[이력서]\n",
      "\n",
      "**개인 정보**\n",
      "- 이름: 김지원\n",
      "- 이메일: jiwan.kim@email.com\n",
      "- 전화번호: 010-1234-5678\n",
      "- 주소: 서울특별시 강남구 테헤란로\n",
      "\n",
      "**목표**\n",
      "귀사의 발전과 함께 성장하며, 제 역량을 최대한 발휘하여 귀사의 주요 구성원, 즉 '꽃'이 되고자 합니다. \n",
      "\n",
      "**학력**\n",
      "- **서울대학교**  \n",
      "  경영학 학사  \n",
      "  2018년 3월 - 2022년 2월\n",
      "\n",
      "**경력**\n",
      "- **ABC 마케팅 회사**  \n",
      "  마케팅 인턴  \n",
      "  2021년 6\n",
      "**************************************************\n"
     ]
    }
   ],
   "source": [
    "for info in get_history('1234').messages:\n",
    "    print(info.content)\n",
    "    print('*' * 50)"
   ]
  }
 ],
 "metadata": {
  "kernelspec": {
   "display_name": "project",
   "language": "python",
   "name": "python3"
  },
  "language_info": {
   "codemirror_mode": {
    "name": "ipython",
    "version": 3
   },
   "file_extension": ".py",
   "mimetype": "text/x-python",
   "name": "python",
   "nbconvert_exporter": "python",
   "pygments_lexer": "ipython3",
   "version": "3.10.12"
  }
 },
 "nbformat": 4,
 "nbformat_minor": 5
}
