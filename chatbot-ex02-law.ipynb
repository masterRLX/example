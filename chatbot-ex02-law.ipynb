{
 "cells": [
  {
   "cell_type": "markdown",
   "id": "ef936845",
   "metadata": {},
   "source": [
    "[문제] Managing Conversation History  \n",
    "- trim_messages()\n",
    "- RunnablePassthrough\n",
    "- itemgetter()\n",
    "\n",
    "세션ID 설정하여, 대화 진행합니다.(multi-turn conversation)\n",
    "LLM 모델이 과거대화를 알지(기억) 못하는 상황을 만드세요.\n",
    "\n",
    "[질문]\n",
    "-육아휴직 기간은?  \n",
    "-육아휴직 조건은?  \n",
    "-육아휴직 대상자는?   \n",
    "-육아휴직 수당 얼마?  \n",
    "-첫 번째 질문이 뭐야?  \n",
    "-질문 정리해줘.  \n",
    "-네 역할은?  \n",
    "-육아 휴직 질문에 대한 답변 정리해줘.  "
   ]
  },
  {
   "cell_type": "code",
   "execution_count": 53,
   "id": "dc0a417d",
   "metadata": {},
   "outputs": [],
   "source": [
    "## 1. 모듈(파일, 라이브러리) 읽어오기\n",
    "from langchain_openai import ChatOpenAI\n",
    "from langchain_core.runnables.history import RunnableWithMessageHistory\n",
    "from langchain_core.chat_history import InMemoryChatMessageHistory\n",
    "from langchain_core.prompts import ChatPromptTemplate\n",
    "from langchain.callbacks.streaming_stdout import StreamingStdOutCallbackHandler\n",
    "from langchain_core.chat_history import BaseChatMessageHistory\n",
    "\n",
    "from dotenv import load_dotenv\n",
    "\n",
    "## 2. 환경변수에 설정된 값 읽어오기\n",
    "load_dotenv()\n",
    "\n",
    "## 3. 파일읽기\n",
    "file_name = '남녀고용평등과 일ㆍ가정 양립 지원에 관한 법률(법률)(제20521호)(20250223).txt'\n",
    "\n",
    "with open(file_name, 'r', encoding='utf-8') as file:\n",
    "    law = file.read()\n",
    "\n",
    "## 4. prompt 생성\n",
    "template = [\n",
    "    ('system', '''당신은 육아휴직 법률 전문가입니다.\n",
    "     아래 문서를 참고하여, 사용자 질문에 성실하게 답변합니다.\n",
    "     답변은 문서 내용을 기반으로 하되, 해당 조항도 표시합니다.\n",
    "     - 문서: {law}'''),\n",
    "     ('placeholder', '{chat_history}'),\n",
    "    ('user','{query}')\n",
    "]\n",
    "\n",
    "prompt = ChatPromptTemplate.from_messages(template)\n"
   ]
  },
  {
   "cell_type": "code",
   "execution_count": 56,
   "id": "3b4be4a5",
   "metadata": {},
   "outputs": [],
   "source": [
    "\n",
    "\n",
    "## 5. ChatOpenAI 인스턴스 생성\n",
    "llm = ChatOpenAI(\n",
    "    # model='gpt-4.1-nano',\n",
    "    model='gpt-4o',\n",
    "    streaming=True,\n",
    "    callbacks=[StreamingStdOutCallbackHandler()],\n",
    ")\n",
    "\n",
    "##########################################################################################\n",
    "from langchain_core.messages import trim_messages\n",
    "\n",
    "## 6.trim 설정\n",
    "trimmer = trim_messages(\n",
    "    max_tokens=65,        ## 최대 토큰 수 제한\n",
    "    strategy='last',      ## 최근 메시지부터 시작해서 자르기\n",
    "    token_counter=llm,    ## 모델 기준으로 토큰 수 계산\n",
    "    include_system=True,  ## 시스템 메시지 포함\n",
    "    allow_partial=False,  ## 메시지 자르기 제한\n",
    "    start_on='human',      ## human 메시지부터 자르기 시작\n",
    ")\n",
    "\n",
    "from langchain_core.runnables import RunnablePassthrough\n",
    "from operator import itemgetter\n",
    "\n",
    "## 6. chain 구성\n",
    "chain = (\n",
    "    RunnablePassthrough.assign(chat_history=itemgetter('chat_history') | trimmer)\n",
    "    | prompt \n",
    "    | llm\n",
    ")\n",
    "#############################################################################################\n",
    "\n",
    "\n",
    "## 7. 세션별 대화 이력(히스토리)을 저장할 임시 메모리 저장소\n",
    "store = {}"
   ]
  },
  {
   "cell_type": "code",
   "execution_count": null,
   "id": "a1e8902c",
   "metadata": {},
   "outputs": [],
   "source": [
    "\n",
    "\n",
    "## 8. 함수 정의 : 대화 이력(히스토리) 인스턴스 리턴\n",
    "def get_history(session_id: str) -> BaseChatMessageHistory:\n",
    "    if session_id not in store:\n",
    "        store[session_id] = InMemoryChatMessageHistory()\n",
    "    return store[session_id]\n",
    "\n",
    "\n",
    "## 10. chain에 대화 이력(히스토리) 기능을 래핑해서 추가\n",
    "with_message_history = RunnableWithMessageHistory(\n",
    "    chain,\n",
    "    get_history,\n",
    "    history_messages_key='chat_history',\n",
    "    input_messages_key='query',\n",
    ")\n",
    "## 11. 실행\n",
    "while True:\n",
    "    query = input('육아 휴직과 관련된 질문하세요 (종료하려면 S입력)')\n",
    "\n",
    "    if query.upper() == 'S':\n",
    "        break\n",
    "\n",
    "    with_message_history.invoke(\n",
    "        {'law': law, 'query': query},\n",
    "        config={'configurable': {'session_id': 'abc'}}\n",
    "    )\n",
    "    print('\\n'+'*' * 100 +'\\n')\n"
   ]
  },
  {
   "cell_type": "code",
   "execution_count": null,
   "id": "6128c52d",
   "metadata": {},
   "outputs": [
    {
     "data": {
      "text/plain": [
       "{'abc': InMemoryChatMessageHistory(messages=[HumanMessage(content='육아휴직기간은?', additional_kwargs={}, response_metadata={}), AIMessage(content='육아휴직의 기간은 법령에 따라 최대 1년(12개월)입니다. 다만, 다음과 같은 경우에는 6개월(180일)까지 추가로 육아휴직을 사용할 수 있습니다:\\n\\n- 같은 자녀를 대상으로 부모가 각각 3개월 이상 육아휴직을 한 경우\\n- 「한부모가족지원법」 제4조제1호의 부 또는 모\\n- 고용노동부령으로 정하는 장애아동의 부 또는 모 (제19조(육아휴직) 제2항 참조)\\n\\n이 내용은 제19조(육아휴직) 제2항에 명확히 규정되어 있습니다.', additional_kwargs={}, response_metadata={'finish_reason': 'stop', 'model_name': 'gpt-4.1-nano-2025-04-14', 'system_fingerprint': 'fp_38343a2f8f'}, id='run-9035a3b5-d837-4729-80da-890bd47e6035-0')])}"
      ]
     },
     "execution_count": 47,
     "metadata": {},
     "output_type": "execute_result"
    }
   ],
   "source": [
    "store"
   ]
  },
  {
   "cell_type": "code",
   "execution_count": null,
   "id": "75ec0261",
   "metadata": {},
   "outputs": [
    {
     "data": {
      "text/plain": [
       "dict_keys(['abc'])"
      ]
     },
     "execution_count": 48,
     "metadata": {},
     "output_type": "execute_result"
    }
   ],
   "source": [
    "store.keys()"
   ]
  },
  {
   "cell_type": "code",
   "execution_count": null,
   "id": "c86398ca",
   "metadata": {},
   "outputs": [
    {
     "name": "stdout",
     "output_type": "stream",
     "text": [
      "[HUMAN]:육아휴직기간은?\n",
      "\n",
      "[AI]:육아휴직의 기간은 법령에 따라 최대 1년(12개월)입니다. 다만, 다음과 같은 경우에는 6개월(180일)까지 추가로 육아휴직을 사용할 수 있습니다:\n",
      "\n",
      "- 같은 자녀를 대상으로 부모가 각각 3개월 이상 육아휴직을 한 경우\n",
      "- 「한부모가족지원법」 제4조제1호의 부 또는 모\n",
      "- 고용노동부령으로 정하는 장애아동의 부 또는 모 (제19조(육아휴직) 제2항 참조)\n",
      "\n",
      "이 내용은 제19조(육아휴직) 제2항에 명확히 규정되어 있습니다.\n",
      "\n"
     ]
    }
   ],
   "source": [
    "for message in get_history('abc').messages:\n",
    "    print(f'[{message.type.upper()}]:{message.content}\\n')\n",
    "    "
   ]
  },
  {
   "cell_type": "code",
   "execution_count": null,
   "id": "9db8e3c6",
   "metadata": {},
   "outputs": [],
   "source": []
  },
  {
   "cell_type": "code",
   "execution_count": null,
   "id": "166e5815",
   "metadata": {},
   "outputs": [],
   "source": []
  },
  {
   "cell_type": "code",
   "execution_count": null,
   "id": "166a06e1",
   "metadata": {},
   "outputs": [],
   "source": []
  },
  {
   "cell_type": "code",
   "execution_count": null,
   "id": "1de79b0f",
   "metadata": {},
   "outputs": [],
   "source": []
  }
 ],
 "metadata": {
  "kernelspec": {
   "display_name": "project",
   "language": "python",
   "name": "python3"
  },
  "language_info": {
   "codemirror_mode": {
    "name": "ipython",
    "version": 3
   },
   "file_extension": ".py",
   "mimetype": "text/x-python",
   "name": "python",
   "nbconvert_exporter": "python",
   "pygments_lexer": "ipython3",
   "version": "3.10.12"
  }
 },
 "nbformat": 4,
 "nbformat_minor": 5
}
