{
 "cells": [
  {
   "cell_type": "markdown",
   "id": "6b9b9e39",
   "metadata": {},
   "source": [
    "#[문제]\n",
    "- 세션 ID  \n",
    "- 세션별 대화 기록을 store에 임시 저장: {}"
   ]
  },
  {
   "cell_type": "markdown",
   "id": "517b5714",
   "metadata": {},
   "source": [
    "## [문제] 기존 String PromptTemplate을  ChatPromptTemplate으로 변경\n",
    "-"
   ]
  },
  {
   "cell_type": "code",
   "execution_count": 8,
   "id": "329dbd50",
   "metadata": {},
   "outputs": [],
   "source": [
    "## 1. 모듈 불러오기\n",
    "from langchain_openai import ChatOpenAI\n",
    "from langchain_core.prompts import ChatPromptTemplate\n",
    "from langchain_core.chat_history import InMemoryChatMessageHistory\n",
    "from langchain_core.runnables.history import RunnableWithMessageHistory\n",
    "from langchain_core.output_parsers import StrOutputParser\n",
    "from langchain_core.chat_history import BaseChatMessageHistory\n",
    "from langchain.callbacks.streaming_stdout import StreamingStdOutCallbackHandler\n",
    "from dotenv import load_dotenv\n",
    "\n",
    "\n",
    "load_dotenv()\n",
    "\n",
    "\n",
    "\n",
    "with open(\"남녀고용평등과 일ㆍ가정 양립 지원에 관한 법률(법률)(제20521호)(20250223).txt\", \"r\", encoding=\"utf-8\") as f:\n",
    "    law = f.read()\n"
   ]
  },
  {
   "cell_type": "code",
   "execution_count": 9,
   "id": "9f687d9a",
   "metadata": {},
   "outputs": [
    {
     "data": {
      "text/plain": [
       "ChatPromptTemplate(input_variables=['law', 'query'], optional_variables=['chat_history'], input_types={'chat_history': list[typing.Annotated[typing.Union[typing.Annotated[langchain_core.messages.ai.AIMessage, Tag(tag='ai')], typing.Annotated[langchain_core.messages.human.HumanMessage, Tag(tag='human')], typing.Annotated[langchain_core.messages.chat.ChatMessage, Tag(tag='chat')], typing.Annotated[langchain_core.messages.system.SystemMessage, Tag(tag='system')], typing.Annotated[langchain_core.messages.function.FunctionMessage, Tag(tag='function')], typing.Annotated[langchain_core.messages.tool.ToolMessage, Tag(tag='tool')], typing.Annotated[langchain_core.messages.ai.AIMessageChunk, Tag(tag='AIMessageChunk')], typing.Annotated[langchain_core.messages.human.HumanMessageChunk, Tag(tag='HumanMessageChunk')], typing.Annotated[langchain_core.messages.chat.ChatMessageChunk, Tag(tag='ChatMessageChunk')], typing.Annotated[langchain_core.messages.system.SystemMessageChunk, Tag(tag='SystemMessageChunk')], typing.Annotated[langchain_core.messages.function.FunctionMessageChunk, Tag(tag='FunctionMessageChunk')], typing.Annotated[langchain_core.messages.tool.ToolMessageChunk, Tag(tag='ToolMessageChunk')]], FieldInfo(annotation=NoneType, required=True, discriminator=Discriminator(discriminator=<function _get_type at 0x000002240A2BCCA0>, custom_error_type=None, custom_error_message=None, custom_error_context=None))]]}, partial_variables={'chat_history': []}, messages=[SystemMessagePromptTemplate(prompt=PromptTemplate(input_variables=['law'], input_types={}, partial_variables={}, template='당신은 20년차 법률전문가 입니다.\\n     아래 문서를 참고하여, 사용자 질문에 답변합니다.\\n     답변은 문서 내용을 기반으로 하되, 해당 조항도 표시합니다.\\n\\t - 문서: {law}'), additional_kwargs={}), MessagesPlaceholder(variable_name='chat_history', optional=True), HumanMessagePromptTemplate(prompt=PromptTemplate(input_variables=['query'], input_types={}, partial_variables={}, template='질문:\\n{query}'), additional_kwargs={})])"
      ]
     },
     "execution_count": 9,
     "metadata": {},
     "output_type": "execute_result"
    }
   ],
   "source": [
    "template = [\n",
    "    ('system','''당신은 20년차 법률전문가 입니다.\n",
    "     아래 문서를 참고하여, 사용자 질문에 답변합니다.\n",
    "     답변은 문서 내용을 기반으로 하되, 해당 조항도 표시합니다.\n",
    "\t - 문서: {law}'''),\n",
    "\t('placeholder', '{chat_history}'),\n",
    "    ('human', '질문:\\n{query}')\n",
    "]\n",
    "\n",
    "prompt = ChatPromptTemplate.from_messages(template)\n",
    "\n",
    "llm = ChatOpenAI(\n",
    "    model='gpt-4.1-nano',\n",
    "    streaming=True,\n",
    "    callbacks=[StreamingStdOutCallbackHandler()],\n",
    ")\n",
    "chain = prompt | llm\n",
    "\n",
    "\n",
    "\n",
    "\n",
    "history = InMemoryChatMessageHistory()\n",
    "\n",
    "store={}\n",
    "\n",
    "def get_history(session_id: str):\n",
    "\tif session_id not in store:\n",
    "\t\tstore[session_id] = InMemoryChatMessageHistory()\n",
    "\treturn store[session_id]\n",
    "\n",
    "\n",
    "whith_message_histpry = RunnableWithMessageHistory(\n",
    "    chain,\n",
    "    get_history,\n",
    "\tinput_messages_key = 'query',\n",
    "    history_messages_key='chat_history'\n",
    ")\n",
    "prompt\n"
   ]
  },
  {
   "cell_type": "code",
   "execution_count": 10,
   "id": "4f682b5a",
   "metadata": {},
   "outputs": [
    {
     "data": {
      "text/plain": [
       "'마냥 쉴수 있는 방법'"
      ]
     },
     "execution_count": 10,
     "metadata": {},
     "output_type": "execute_result"
    }
   ],
   "source": [
    "query = input('육아휴직과 관련된 질문하세요 >>')\n",
    "query "
   ]
  },
  {
   "cell_type": "code",
   "execution_count": 11,
   "id": "23b0c00b",
   "metadata": {},
   "outputs": [
    {
     "name": "stdout",
     "output_type": "stream",
     "text": [
      "남녀고용평등법에는 근로자가 언제든 자유롭게 쉴 수 있는 권리와 관련된 규정이 구체적으로 명시되어 있지 않으나, 근로자가 휴식을 취하거나 일정 기간 쉬는 방법에 대하여는 법적 지원과 제도적 배려가 존재합니다.\n",
      "\n",
      "먼저, '육아휴직' 제도(제19조)와 '육아기 근로시간 단축' 제도(제19조의2)는 근로자가 일정 기간 동안 근로를 중단하거나 시간을 단축하여 일과 가정을 양립할 수 있도록 하는 지원 제도입니다. 육아휴직은 최대 1년(일부 경우 2년 이내 연장 가능) 동안 사용할 수 있으며, 육아기 근로시간 단축은 최대 1년(연장 가능) 동안 근로시간을 감축하여 일시적으로 휴식을 취할 수 있는 방법입니다(제19조, 제19조의2).\n",
      "\n",
      "또한, '가족돌봄휴직'(제22조의2)은 가족 질병, 사고, 노령 등 긴급 돌봄이 필요한 경우 신청하여 최대 90일 동안 휴직이 가능하며, 기간 내 연장도 가능합니다(제22조의2). 이 제도들은 근로자의 일과 가정 양립을 돕기 위한 법적 지원입니다.\n",
      "\n",
      "즉, 법적으로 정해진 휴직이나 근로시간 감축 제도를 활용하면 일정 기간 '쉴 수 있는 방법'이 마련되어 있습니다. 이러한 제도를 이용하기 위해서는 근로자가 사업장에 신청하고 사업주는 이에 따라 적절한 조치를 해야 하며, 해고나 불리한 처우를 하여서는 안 됩니다(제18조, 제19조, 제22조의2, 제19조의2 등).\n",
      "\n",
      "한편, 법에서 정하는 기본적인 휴식권이 법률상으로 명확히 정해져 있지 않기 때문에, 더 자세한 휴식 방법이나 무제한 쉴 권리에 관해서는 근로기준법 등 다른 법률 또는 회사 내부 규정을 참고하는 것이 좋습니다.\n",
      "\n",
      "요약하면, 남녀고용평등법에 근거한 공식적 방법으로는 '육아휴직', '육아기 근로시간 단축', '가족돌봄휴직/휴가' 등을 활용하는 것이 가장 적법하고 보장된 방법입니다.content=\"남녀고용평등법에는 근로자가 언제든 자유롭게 쉴 수 있는 권리와 관련된 규정이 구체적으로 명시되어 있지 않으나, 근로자가 휴식을 취하거나 일정 기간 쉬는 방법에 대하여는 법적 지원과 제도적 배려가 존재합니다.\\n\\n먼저, '육아휴직' 제도(제19조)와 '육아기 근로시간 단축' 제도(제19조의2)는 근로자가 일정 기간 동안 근로를 중단하거나 시간을 단축하여 일과 가정을 양립할 수 있도록 하는 지원 제도입니다. 육아휴직은 최대 1년(일부 경우 2년 이내 연장 가능) 동안 사용할 수 있으며, 육아기 근로시간 단축은 최대 1년(연장 가능) 동안 근로시간을 감축하여 일시적으로 휴식을 취할 수 있는 방법입니다(제19조, 제19조의2).\\n\\n또한, '가족돌봄휴직'(제22조의2)은 가족 질병, 사고, 노령 등 긴급 돌봄이 필요한 경우 신청하여 최대 90일 동안 휴직이 가능하며, 기간 내 연장도 가능합니다(제22조의2). 이 제도들은 근로자의 일과 가정 양립을 돕기 위한 법적 지원입니다.\\n\\n즉, 법적으로 정해진 휴직이나 근로시간 감축 제도를 활용하면 일정 기간 '쉴 수 있는 방법'이 마련되어 있습니다. 이러한 제도를 이용하기 위해서는 근로자가 사업장에 신청하고 사업주는 이에 따라 적절한 조치를 해야 하며, 해고나 불리한 처우를 하여서는 안 됩니다(제18조, 제19조, 제22조의2, 제19조의2 등).\\n\\n한편, 법에서 정하는 기본적인 휴식권이 법률상으로 명확히 정해져 있지 않기 때문에, 더 자세한 휴식 방법이나 무제한 쉴 권리에 관해서는 근로기준법 등 다른 법률 또는 회사 내부 규정을 참고하는 것이 좋습니다.\\n\\n요약하면, 남녀고용평등법에 근거한 공식적 방법으로는 '육아휴직', '육아기 근로시간 단축', '가족돌봄휴직/휴가' 등을 활용하는 것이 가장 적법하고 보장된 방법입니다.\" additional_kwargs={} response_metadata={'finish_reason': 'stop', 'model_name': 'gpt-4.1-nano-2025-04-14', 'system_fingerprint': 'fp_eede8f0d45'} id='run-733f7432-be60-4e66-93a2-22f479137965-0'\n"
     ]
    }
   ],
   "source": [
    "ai_message = whith_message_histpry.invoke(\n",
    "    {'law':law, 'query':query},\n",
    "    config={'configurable': {'session_id': 'ss361'}}\n",
    "    )\n",
    "print(ai_message)"
   ]
  },
  {
   "cell_type": "code",
   "execution_count": 12,
   "id": "3d6827ec",
   "metadata": {},
   "outputs": [
    {
     "data": {
      "text/plain": [
       "InMemoryChatMessageHistory(messages=[HumanMessage(content='마냥 쉴수 있는 방법', additional_kwargs={}, response_metadata={}), AIMessage(content=\"남녀고용평등법에는 근로자가 언제든 자유롭게 쉴 수 있는 권리와 관련된 규정이 구체적으로 명시되어 있지 않으나, 근로자가 휴식을 취하거나 일정 기간 쉬는 방법에 대하여는 법적 지원과 제도적 배려가 존재합니다.\\n\\n먼저, '육아휴직' 제도(제19조)와 '육아기 근로시간 단축' 제도(제19조의2)는 근로자가 일정 기간 동안 근로를 중단하거나 시간을 단축하여 일과 가정을 양립할 수 있도록 하는 지원 제도입니다. 육아휴직은 최대 1년(일부 경우 2년 이내 연장 가능) 동안 사용할 수 있으며, 육아기 근로시간 단축은 최대 1년(연장 가능) 동안 근로시간을 감축하여 일시적으로 휴식을 취할 수 있는 방법입니다(제19조, 제19조의2).\\n\\n또한, '가족돌봄휴직'(제22조의2)은 가족 질병, 사고, 노령 등 긴급 돌봄이 필요한 경우 신청하여 최대 90일 동안 휴직이 가능하며, 기간 내 연장도 가능합니다(제22조의2). 이 제도들은 근로자의 일과 가정 양립을 돕기 위한 법적 지원입니다.\\n\\n즉, 법적으로 정해진 휴직이나 근로시간 감축 제도를 활용하면 일정 기간 '쉴 수 있는 방법'이 마련되어 있습니다. 이러한 제도를 이용하기 위해서는 근로자가 사업장에 신청하고 사업주는 이에 따라 적절한 조치를 해야 하며, 해고나 불리한 처우를 하여서는 안 됩니다(제18조, 제19조, 제22조의2, 제19조의2 등).\\n\\n한편, 법에서 정하는 기본적인 휴식권이 법률상으로 명확히 정해져 있지 않기 때문에, 더 자세한 휴식 방법이나 무제한 쉴 권리에 관해서는 근로기준법 등 다른 법률 또는 회사 내부 규정을 참고하는 것이 좋습니다.\\n\\n요약하면, 남녀고용평등법에 근거한 공식적 방법으로는 '육아휴직', '육아기 근로시간 단축', '가족돌봄휴직/휴가' 등을 활용하는 것이 가장 적법하고 보장된 방법입니다.\", additional_kwargs={}, response_metadata={'finish_reason': 'stop', 'model_name': 'gpt-4.1-nano-2025-04-14', 'system_fingerprint': 'fp_eede8f0d45'}, id='run-733f7432-be60-4e66-93a2-22f479137965-0')])"
      ]
     },
     "execution_count": 12,
     "metadata": {},
     "output_type": "execute_result"
    }
   ],
   "source": [
    "get_history('ss361')\n"
   ]
  }
 ],
 "metadata": {
  "kernelspec": {
   "display_name": "project",
   "language": "python",
   "name": "python3"
  },
  "language_info": {
   "codemirror_mode": {
    "name": "ipython",
    "version": 3
   },
   "file_extension": ".py",
   "mimetype": "text/x-python",
   "name": "python",
   "nbconvert_exporter": "python",
   "pygments_lexer": "ipython3",
   "version": "3.10.12"
  }
 },
 "nbformat": 4,
 "nbformat_minor": 5
}
